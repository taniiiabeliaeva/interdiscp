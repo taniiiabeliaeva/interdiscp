{
 "cells": [
  {
   "cell_type": "markdown",
   "id": "4c6bff1e",
   "metadata": {},
   "source": [
    "# Test on 1 csv"
   ]
  },
  {
   "cell_type": "code",
   "execution_count": 2,
   "id": "91419d6c",
   "metadata": {},
   "outputs": [
    {
     "name": "stdout",
     "output_type": "stream",
     "text": [
      "Shape: (225745, 79)\n",
      "Columns: Index([' Destination Port', ' Flow Duration', ' Total Fwd Packets',\n",
      "       ' Total Backward Packets', 'Total Length of Fwd Packets',\n",
      "       ' Total Length of Bwd Packets', ' Fwd Packet Length Max',\n",
      "       ' Fwd Packet Length Min', ' Fwd Packet Length Mean',\n",
      "       ' Fwd Packet Length Std'],\n",
      "      dtype='object')\n",
      "Label distribution:\n",
      "  Label\n",
      "DDoS      128027\n",
      "BENIGN     97718\n",
      "Name: count, dtype: int64\n"
     ]
    }
   ],
   "source": [
    "import pandas as pd\n",
    "import numpy as np\n",
    "from sklearn.preprocessing import MinMaxScaler\n",
    "from sklearn.neighbors import KNeighborsClassifier\n",
    "import matplotlib.pyplot as plt\n",
    "import os\n",
    "\n",
    "df = pd.read_csv(\"MachineLearningCVE/Friday-WorkingHours-Afternoon-DDos.pcap_ISCX.csv\")\n",
    "\n",
    "print(\"Shape:\", df.shape)\n",
    "print(\"Columns:\", df.columns[:10])  # preview first columns\n",
    "print(\"Label distribution:\\n\", df[\" Label\"].value_counts())"
   ]
  },
  {
   "cell_type": "code",
   "execution_count": null,
   "id": "c821a4f8",
   "metadata": {},
   "outputs": [
    {
     "name": "stdout",
     "output_type": "stream",
     "text": [
      "Processed features shape: (225745, 78)\n",
      "Classes: ['BENIGN' 'DDoS']\n"
     ]
    }
   ],
   "source": [
    "df.columns = df.columns.str.strip()   # remove spaces from col names\n",
    "\n",
    "X = df.drop(\"Label\", axis=1, errors=\"ignore\")\n",
    "y = df[\"Label\"].values\n",
    "\n",
    "# Convert all to numeric, replace inf/NaN\n",
    "X = X.apply(pd.to_numeric, errors=\"coerce\")\n",
    "X = X.replace([np.inf, -np.inf], np.nan)\n",
    "X = X.fillna(0)\n",
    "\n",
    "# Normalize\n",
    "scaler = MinMaxScaler()\n",
    "X_scaled = scaler.fit_transform(X)\n",
    "\n",
    "print(\"Processed features shape:\", X_scaled.shape)\n",
    "print(\"Classes:\", np.unique(y))"
   ]
  },
  {
   "cell_type": "code",
   "execution_count": 3,
   "id": "79f45e07",
   "metadata": {},
   "outputs": [
    {
     "name": "stdout",
     "output_type": "stream",
     "text": [
      "\n",
      " ENN Misclassification Rates \n",
      "k=3 → Overall misclassification rate: 0.000151\n",
      "  Per-class misclassification: {'BENIGN': np.float64(0.00021490411183200638), 'DDoS': np.float64(0.00010154108117818898)}\n",
      "k=5 → Overall misclassification rate: 0.000173\n",
      "  Per-class misclassification: {'BENIGN': np.float64(0.0002456046992365787), 'DDoS': np.float64(0.00011716278597483344)}\n",
      "k=7 → Overall misclassification rate: 0.000190\n",
      "  Per-class misclassification: {'BENIGN': np.float64(0.00027630528664115105), 'DDoS': np.float64(0.00012497363837315567)}\n"
     ]
    }
   ],
   "source": [
    "def enn_test(X, y, k=5):\n",
    "    knn = KNeighborsClassifier(n_neighbors=k)\n",
    "    knn.fit(X, y)\n",
    "    y_pred = knn.predict(X)\n",
    "    misclassified = (y_pred != y)\n",
    "    mis_rate = np.mean(misclassified)\n",
    "    return y_pred, misclassified, mis_rate\n",
    "\n",
    "print(\"\\n ENN Misclassification Rates \")\n",
    "for k in [3, 5, 7]:\n",
    "    y_pred, mis_mask, mis_rate = enn_test(X_scaled, y, k)\n",
    "    print(f\"k={k} → Overall misclassification rate: {mis_rate:.6f}\")\n",
    "\n",
    "    # Per-class misclassification\n",
    "    results = {}\n",
    "    for cls in np.unique(y):\n",
    "        idx = (y == cls)\n",
    "        if np.sum(idx) > 0:\n",
    "            cls_rate = np.mean(y_pred[idx] != y[idx])\n",
    "            results[cls] = cls_rate\n",
    "    print(f\"  Per-class misclassification: {results}\")"
   ]
  },
  {
   "cell_type": "code",
   "execution_count": 4,
   "id": "ea007da1",
   "metadata": {},
   "outputs": [
    {
     "name": "stdout",
     "output_type": "stream",
     "text": [
      "\n",
      "=== Port Test Results (UGT_C per class) ===\n",
      "BENIGN: 0.337\n",
      "DDoS: 0.000\n"
     ]
    }
   ],
   "source": [
    "BG_PORTS = {0, 53, 67, 68, 111, 123, 137, 161, 179, 389, 427, 520, 1723, 1900}\n",
    "\n",
    "def port_test(df, label_col=\"Label\", port_col=\"Destination Port\"):\n",
    "    results = {}\n",
    "    for cls, group in df.groupby(label_col):\n",
    "        total = len(group)\n",
    "        unclear = group[group[port_col].isin(BG_PORTS)]\n",
    "        results[cls] = len(unclear) / total if total > 0 else 0\n",
    "    return results\n",
    "\n",
    "ugt_results = port_test(df)\n",
    "\n",
    "print(\"\\n=== Port Test Results (UGT_C per class) ===\")\n",
    "for cls, val in ugt_results.items():\n",
    "    print(f\"{cls}: {val:.3f}\")"
   ]
  },
  {
   "cell_type": "code",
   "execution_count": 5,
   "id": "c90f2ecf",
   "metadata": {},
   "outputs": [
    {
     "data": {
      "image/png": "[encoded data removed]",
      "text/plain": [
       "<Figure size 800x500 with 1 Axes>"
      ]
     },
     "metadata": {},
     "output_type": "display_data"
    }
   ],
   "source": [
    "plt.figure(figsize=(8,5))\n",
    "plt.bar(ugt_results.keys(), ugt_results.values(), color=\"steelblue\")\n",
    "plt.xticks(rotation=45)\n",
    "plt.ylabel(\"UGT_C (ratio of unclear flows)\")\n",
    "plt.title(\"Port Test Results (CICIDS2017 - by Class)\")\n",
    "plt.show()"
   ]
  },
  {
   "cell_type": "markdown",
   "id": "8e7daf48",
   "metadata": {},
   "source": [
    "# Full dataset test"
   ]
  },
  {
   "cell_type": "code",
   "execution_count": null,
   "id": "34ca0a9a",
   "metadata": {},
   "outputs": [
    {
     "name": "stdout",
     "output_type": "stream",
     "text": [
      "\n",
      "=== Processing Friday-WorkingHours-Afternoon-DDos.pcap_ISCX.csv ===\n",
      "Shape: (225745, 79)\n"
     ]
    }
   ],
   "source": [
    "# Helper Functions\n",
    "def preprocess_data(df):\n",
    "    df.columns = df.columns.str.strip()  \n",
    "    X = df.drop(\"Label\", axis=1, errors=\"ignore\")\n",
    "    y = df[\"Label\"].values\n",
    "\n",
    "    # convert to numeric\n",
    "    X = X.apply(pd.to_numeric, errors=\"coerce\")\n",
    "    X = X.replace([np.inf, -np.inf], np.nan)\n",
    "    X = X.fillna(0)\n",
    "\n",
    "    # normalize\n",
    "    scaler = MinMaxScaler()\n",
    "    X_scaled = scaler.fit_transform(X)\n",
    "    return X_scaled, y\n",
    "\n",
    "def enn_test(X, y, k=5):\n",
    "    knn = KNeighborsClassifier(n_neighbors=k)\n",
    "    knn.fit(X, y)\n",
    "    y_pred = knn.predict(X)\n",
    "    mis_rate = np.mean(y_pred != y)\n",
    "\n",
    "    per_class = {}\n",
    "    for cls in np.unique(y):\n",
    "        idx = (y == cls)\n",
    "        if np.sum(idx) > 0:\n",
    "            per_class[cls] = np.mean(y_pred[idx] != y[idx])\n",
    "    return mis_rate, per_class\n",
    "\n",
    "BG_PORTS = {0, 53, 67, 68, 111, 123, 137, 161, 179, 389, 427, 520, 1723, 1900}\n",
    "\n",
    "def port_test(df, label_col=\"Label\", port_col=\"Destination Port\"):\n",
    "    results = {}\n",
    "    for cls, group in df.groupby(label_col):\n",
    "        total = len(group)\n",
    "        unclear = group[group[port_col].isin(BG_PORTS)]\n",
    "        results[cls] = len(unclear) / total if total > 0 else 0\n",
    "    return results\n",
    "\n",
    "# Main Loop over all CSVs\n",
    "\n",
    "folder = \"MachineLearningCVE\"\n",
    "results = []\n",
    "\n",
    "for file in os.listdir(folder):\n",
    "    if file.endswith(\".csv\"):\n",
    "        filepath = os.path.join(folder, file)\n",
    "        print(f\"\\n=== Processing {file} ===\")\n",
    "        try:\n",
    "            df = pd.read_csv(filepath)\n",
    "            print(\"Shape:\", df.shape)\n",
    "\n",
    "            # Preprocess\n",
    "            X_scaled, y = preprocess_data(df)\n",
    "\n",
    "            # ENN\n",
    "            mis_rate, per_class = enn_test(X_scaled, y, k=5)\n",
    "\n",
    "            # Port Test\n",
    "            port_results = port_test(df)\n",
    "\n",
    "            # Store results\n",
    "            for cls in np.unique(y):\n",
    "                results.append({\n",
    "                    \"File\": file,\n",
    "                    \"Class\": cls,\n",
    "                    \"ENN_misrate\": per_class.get(cls, np.nan),\n",
    "                    \"PortTest_UGT_C\": port_results.get(cls, np.nan)\n",
    "                })\n",
    "\n",
    "        except Exception as e:\n",
    "            print(f\"Error with {file}: {e}\")\n"
   ]
  },
  {
   "cell_type": "markdown",
   "id": "c1e7c846",
   "metadata": {},
   "source": [
    "# Summary Table"
   ]
  },
  {
   "cell_type": "code",
   "execution_count": null,
   "id": "44d7408e",
   "metadata": {},
   "outputs": [
    {
     "name": "stdout",
     "output_type": "stream",
     "text": [
      "\n",
      "=== Summary Results ===\n",
      "                                                 File  \\\n",
      "0    Friday-WorkingHours-Afternoon-DDos.pcap_ISCX.csv   \n",
      "1    Friday-WorkingHours-Afternoon-DDos.pcap_ISCX.csv   \n",
      "2   Friday-WorkingHours-Afternoon-PortScan.pcap_IS...   \n",
      "3   Friday-WorkingHours-Afternoon-PortScan.pcap_IS...   \n",
      "4           Friday-WorkingHours-Morning.pcap_ISCX.csv   \n",
      "5           Friday-WorkingHours-Morning.pcap_ISCX.csv   \n",
      "6                   Monday-WorkingHours.pcap_ISCX.csv   \n",
      "7   Thursday-WorkingHours-Afternoon-Infilteration....   \n",
      "8   Thursday-WorkingHours-Afternoon-Infilteration....   \n",
      "9   Thursday-WorkingHours-Morning-WebAttacks.pcap_...   \n",
      "10  Thursday-WorkingHours-Morning-WebAttacks.pcap_...   \n",
      "11  Thursday-WorkingHours-Morning-WebAttacks.pcap_...   \n",
      "12  Thursday-WorkingHours-Morning-WebAttacks.pcap_...   \n",
      "13                 Tuesday-WorkingHours.pcap_ISCX.csv   \n",
      "14                 Tuesday-WorkingHours.pcap_ISCX.csv   \n",
      "15                 Tuesday-WorkingHours.pcap_ISCX.csv   \n",
      "16               Wednesday-workingHours.pcap_ISCX.csv   \n",
      "17               Wednesday-workingHours.pcap_ISCX.csv   \n",
      "18               Wednesday-workingHours.pcap_ISCX.csv   \n",
      "19               Wednesday-workingHours.pcap_ISCX.csv   \n",
      "\n",
      "                         Class  ENN_misrate  PortTest_UGT_C  \n",
      "0                       BENIGN     0.000246        0.336693  \n",
      "1                         DDoS     0.000117        0.000000  \n",
      "2                       BENIGN     0.000055        0.471455  \n",
      "3                     PortScan     0.000101        0.008029  \n",
      "4                       BENIGN     0.000651        0.505128  \n",
      "5                          Bot     0.054425        0.000000  \n",
      "6                       BENIGN     0.000000        0.420865  \n",
      "7                       BENIGN     0.000014        0.355167  \n",
      "8                 Infiltration     0.555556        0.000000  \n",
      "9                       BENIGN     0.000042        0.485147  \n",
      "10    Web Attack � Brute Force     0.105508        0.000000  \n",
      "11  Web Attack � Sql Injection     0.714286        0.000000  \n",
      "12            Web Attack � XSS     0.500000        0.000000  \n",
      "13                      BENIGN     0.000074        0.462074  \n",
      "14                 FTP-Patator     0.001260        0.000000  \n",
      "15                 SSH-Patator     0.005087        0.000000  \n",
      "16                      BENIGN     0.000409        0.460813  \n",
      "17               DoS GoldenEye     0.002817        0.000000  \n",
      "18                    DoS Hulk     0.000164        0.000000  \n",
      "19            DoS Slowhttptest     0.006547        0.000000  \n"
     ]
    }
   ],
   "source": [
    "summary_df = pd.DataFrame(results)\n",
    "print(\"\\n=== Summary Results ===\")\n",
    "print(summary_df.head(20))\n",
    "\n",
    "# Save to CSV\n",
    "summary_df.to_csv(\"CICIDS2017_ENN_PortTest_Summary.csv\", index=False, encoding=\"utf-8\")"
   ]
  },
  {
   "cell_type": "markdown",
   "id": "eb496684",
   "metadata": {},
   "source": [
    "# Plot comparison"
   ]
  },
  {
   "cell_type": "code",
   "execution_count": null,
   "id": "98fc8b82",
   "metadata": {},
   "outputs": [
    {
     "ename": "NameError",
     "evalue": "name 'summary_df' is not defined",
     "output_type": "error",
     "traceback": [
      "\u001b[1;31m---------------------------------------------------------------------------\u001b[0m",
      "\u001b[1;31mNameError\u001b[0m                                 Traceback (most recent call last)",
      "Cell \u001b[1;32mIn[1], line 5\u001b[0m\n\u001b[0;32m      2\u001b[0m \u001b[38;5;28;01mimport\u001b[39;00m \u001b[38;5;21;01mseaborn\u001b[39;00m \u001b[38;5;28;01mas\u001b[39;00m \u001b[38;5;21;01msns\u001b[39;00m\n\u001b[0;32m      4\u001b[0m \u001b[38;5;66;03m# barplot per file\u001b[39;00m\n\u001b[1;32m----> 5\u001b[0m \u001b[38;5;28;01mfor\u001b[39;00m file \u001b[38;5;129;01min\u001b[39;00m \u001b[43msummary_df\u001b[49m[\u001b[38;5;124m\"\u001b[39m\u001b[38;5;124mFile\u001b[39m\u001b[38;5;124m\"\u001b[39m]\u001b[38;5;241m.\u001b[39munique():\n\u001b[0;32m      6\u001b[0m     subset \u001b[38;5;241m=\u001b[39m summary_df[summary_df[\u001b[38;5;124m\"\u001b[39m\u001b[38;5;124mFile\u001b[39m\u001b[38;5;124m\"\u001b[39m] \u001b[38;5;241m==\u001b[39m file]\n\u001b[0;32m      8\u001b[0m     fig, ax1 \u001b[38;5;241m=\u001b[39m plt\u001b[38;5;241m.\u001b[39msubplots(figsize\u001b[38;5;241m=\u001b[39m(\u001b[38;5;241m8\u001b[39m,\u001b[38;5;241m5\u001b[39m))\n",
      "\u001b[1;31mNameError\u001b[0m: name 'summary_df' is not defined"
     ]
    }
   ],
   "source": [
    "import matplotlib.pyplot as plt\n",
    "import seaborn as sns\n",
    "\n",
    "# barplot per file\n",
    "for file in summary_df[\"File\"].unique():\n",
    "    subset = summary_df[summary_df[\"File\"] == file]\n",
    "\n",
    "    fig, ax1 = plt.subplots(figsize=(8,5))\n",
    "    ax2 = ax1.twinx()\n",
    "\n",
    "    # ENN misrate (left axis, orange)\n",
    "    subset.plot(\n",
    "        x=\"Class\", y=\"ENN_misrate\", kind=\"bar\",\n",
    "        color=\"orange\", ax=ax1, position=0, width=0.4, legend=False\n",
    "    )\n",
    "\n",
    "    # Port Test UGT_C (right axis, steelblue)\n",
    "    subset.plot(\n",
    "        x=\"Class\", y=\"PortTest_UGT_C\", kind=\"bar\",\n",
    "        color=\"steelblue\", ax=ax2, position=1, width=0.4, legend=False\n",
    "    )\n",
    "\n",
    "    ax1.set_ylabel(\"ENN misclassification rate\", color=\"orange\")\n",
    "    ax2.set_ylabel(\"PortTest UGT_C\", color=\"steelblue\")\n",
    "    ax1.set_title(f\"Comparison of ENN vs Port Test – {file}\")\n",
    "    plt.xticks(rotation=45)\n",
    "    plt.tight_layout()\n",
    "    plt.savefig(f\"plots/{file}_comparison.png\")\n",
    "    plt.close()\n",
    "\n",
    "print(\"Saved plots in folder: plots/\")"
   ]
  },
  {
   "cell_type": "code",
   "execution_count": null,
   "id": "eb649a66",
   "metadata": {},
   "outputs": [],
   "source": [
    "pivot_df = summary_df.pivot(index=\"Class\", columns=\"File\", values=\"ENN_misrate\")\n",
    "\n",
    "# Optional: filter out BENIGN if we want to highlight only attacks\n",
    "# pivot_df = pivot_df[pivot_df.index != \"BENIGN\"]\n",
    "\n",
    "# Shorten file names\n",
    "pivot_df.columns = [col.replace(\".pcap_ISCX.csv\", \"\").replace(\"WorkingHours-\", \"WH-\") for col in pivot_df.columns]\n",
    "\n",
    "plt.figure(figsize=(12, 8))\n",
    "sns.heatmap(\n",
    "    pivot_df,\n",
    "    annot=True, fmt=\".3f\",\n",
    "    cmap=\"Reds\",\n",
    "    cbar_kws={'label': 'ENN misrate'}\n",
    ")\n",
    "plt.title(\"Heatmap of ENN Misclassification Rates across CICIDS2017\", fontsize=14)\n",
    "plt.xlabel(\"Dataset File\")\n",
    "plt.ylabel(\"Class\")\n",
    "plt.xticks(rotation=45, ha=\"right\")\n",
    "plt.yticks(rotation=0)\n",
    "plt.tight_layout()\n",
    "\n",
    "plt.show()\n",
    "\n",
    "plt.savefig(\"ENN_heatmap.png\", dpi=300)"
   ]
  }
 ],
 "metadata": {
  "kernelspec": {
   "display_name": "Python 3",
   "language": "python",
   "name": "python3"
  },
  "language_info": {
   "codemirror_mode": {
    "name": "ipython",
    "version": 3
   },
   "file_extension": ".py",
   "mimetype": "text/x-python",
   "name": "python",
   "nbconvert_exporter": "python",
   "pygments_lexer": "ipython3",
   "version": "3.11.0"
  }
 },
 "nbformat": 4,
 "nbformat_minor": 5
}
