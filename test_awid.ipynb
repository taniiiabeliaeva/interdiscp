{
 "cells": [
  {
   "cell_type": "code",
   "execution_count": 1,
   "id": "858865f1",
   "metadata": {},
   "outputs": [],
   "source": [
    "import os\n",
    "import pandas as pd\n",
    "import numpy as np\n",
    "from sklearn.preprocessing import MinMaxScaler\n",
    "from sklearn.neighbors import KNeighborsClassifier\n",
    "import matplotlib.pyplot as plt\n",
    "import seaborn as sns"
   ]
  },
  {
   "cell_type": "code",
   "execution_count": 2,
   "id": "94108bf0",
   "metadata": {},
   "outputs": [],
   "source": [
    "def preprocess_data(df, label_col=\"Label\"):\n",
    "    df.columns = df.columns.str.strip()\n",
    "    if label_col not in df.columns:\n",
    "        raise ValueError(f\"Label column '{label_col}' not found in dataframe!\")\n",
    "\n",
    "    X = df.drop(label_col, axis=1, errors=\"ignore\")\n",
    "    y = df[label_col].values\n",
    "\n",
    "    # numeric conversion + cleaning\n",
    "    X = X.apply(pd.to_numeric, errors=\"coerce\")\n",
    "    X = X.replace([np.inf, -np.inf], np.nan).fillna(0)\n",
    "\n",
    "    scaler = MinMaxScaler()\n",
    "    X_scaled = scaler.fit_transform(X)\n",
    "    return X_scaled, y\n",
    "\n",
    "def enn_test(X, y, k=5):\n",
    "    knn = KNeighborsClassifier(n_neighbors=k)\n",
    "    knn.fit(X, y)\n",
    "    y_pred = knn.predict(X)\n",
    "\n",
    "    mis_rate = np.mean(y_pred != y)\n",
    "    per_class = {cls: np.mean(y_pred[y==cls] != cls) for cls in np.unique(y)}\n",
    "    return mis_rate, per_class\n",
    "\n",
    "BG_PORTS = {0, 53, 67, 68, 111, 123, 137, 161, 179, 389, 427, 520, 1723, 1900}\n",
    "def port_test(df, label_col=\"Label\", port_col=\"Destination Port\"):\n",
    "    if port_col not in df.columns:\n",
    "        return {cls: np.nan for cls in df[label_col].unique()}  # skip if missing\n",
    "\n",
    "    results = {}\n",
    "    for cls, group in df.groupby(label_col):\n",
    "        total = len(group)\n",
    "        unclear = group[group[port_col].isin(BG_PORTS)]\n",
    "        results[cls] = len(unclear)/total if total else 0\n",
    "    return results\n"
   ]
  },
  {
   "cell_type": "code",
   "execution_count": null,
   "id": "1b9ae8bb",
   "metadata": {},
   "outputs": [
    {
     "name": "stdout",
     "output_type": "stream",
     "text": [
      "\n",
      "=== Processing Deauth_0.csv (folder: 1.Deauth) ===\n"
     ]
    },
    {
     "name": "stderr",
     "output_type": "stream",
     "text": [
      "C:\\Users\\tanbe\\AppData\\Local\\Temp\\ipykernel_24432\\3443088727.py:17: DtypeWarning: Columns (20,21,23,24,43,44,45,48,50,51,62,65,71,73,77,78,79,80,82,84,85,87,90,91,92,93,98,99,100,101,102,103,104,107,108,109,110,111,118,119,120,122,132,137,138,139,141,143,145,146,147,148,149,150,151,153,155,157,158,159,160,161,162,163,164,166,167,168,184,185,189,190,192,193,194,196,197,203,204,205,209,210,211,212,213,215,217,218,219,247,248,249,250,251) have mixed types. Specify dtype option on import or set low_memory=False.\n",
      "  df = pd.read_csv(filepath)\n"
     ]
    },
    {
     "name": "stdout",
     "output_type": "stream",
     "text": [
      "Shape: (50000, 254)\n",
      "\n",
      "=== Processing Deauth_1.csv (folder: 1.Deauth) ===\n"
     ]
    },
    {
     "name": "stderr",
     "output_type": "stream",
     "text": [
      "C:\\Users\\tanbe\\AppData\\Local\\Temp\\ipykernel_24432\\3443088727.py:17: DtypeWarning: Columns (71,73,77,78,79,80,82,84,85,90,91,92,93,98,99,100,101,102,103,104,107,108,109,110,111,118,166,168,183,184,185,190,192,193,194,195,197,200,201,202,203,204,205,206,209,210,211,212,213,215,217,218,219,249) have mixed types. Specify dtype option on import or set low_memory=False.\n",
      "  df = pd.read_csv(filepath)\n"
     ]
    },
    {
     "name": "stdout",
     "output_type": "stream",
     "text": [
      "Shape: (50000, 254)\n",
      "\n",
      "=== Processing Deauth_10.csv (folder: 1.Deauth) ===\n"
     ]
    },
    {
     "name": "stderr",
     "output_type": "stream",
     "text": [
      "C:\\Users\\tanbe\\AppData\\Local\\Temp\\ipykernel_24432\\3443088727.py:17: DtypeWarning: Columns (71,73,77,78,79,80,82,84,85,87,90,91,92,93,94,96,98,99,100,101,102,103,104,107,108,109,110,111,118,166,168,184,185,189,190,192,193,194,195,196,197,200,201,202,203,204,205,206,209,210,211,212,213,215,217,218,219,247,248,249,250) have mixed types. Specify dtype option on import or set low_memory=False.\n",
      "  df = pd.read_csv(filepath)\n"
     ]
    },
    {
     "name": "stdout",
     "output_type": "stream",
     "text": [
      "Shape: (50000, 254)\n",
      "\n",
      "=== Processing Deauth_11.csv (folder: 1.Deauth) ===\n"
     ]
    },
    {
     "name": "stderr",
     "output_type": "stream",
     "text": [
      "C:\\Users\\tanbe\\AppData\\Local\\Temp\\ipykernel_24432\\3443088727.py:17: DtypeWarning: Columns (71,73,77,78,79,80,82,84,85,90,91,92,93,98,99,100,101,102,103,104,107,108,109,110,111,118,166,167,168,178,180,183,184,185,189,190,192,193,194,195,196,197,200,201,202,203,204,205,206,209,210,211,212,213,215,217,218,219,248,249) have mixed types. Specify dtype option on import or set low_memory=False.\n",
      "  df = pd.read_csv(filepath)\n"
     ]
    },
    {
     "name": "stdout",
     "output_type": "stream",
     "text": [
      "Shape: (50000, 254)\n",
      "\n",
      "=== Processing Deauth_12.csv (folder: 1.Deauth) ===\n"
     ]
    },
    {
     "name": "stderr",
     "output_type": "stream",
     "text": [
      "C:\\Users\\tanbe\\AppData\\Local\\Temp\\ipykernel_24432\\3443088727.py:17: DtypeWarning: Columns (71,73,77,78,79,80,82,84,85,90,91,92,93,98,99,100,101,102,103,104,107,108,109,110,111,115,118,166,167,168,178,180,183,184,185,189,190,192,193,194,195,196,197,200,201,202,203,204,205,206,209,210,211,212,213,215,217,218,219,247,248,249,250) have mixed types. Specify dtype option on import or set low_memory=False.\n",
      "  df = pd.read_csv(filepath)\n"
     ]
    },
    {
     "name": "stdout",
     "output_type": "stream",
     "text": [
      "Shape: (50000, 254)\n",
      "\n",
      "=== Processing Deauth_13.csv (folder: 1.Deauth) ===\n"
     ]
    },
    {
     "name": "stderr",
     "output_type": "stream",
     "text": [
      "C:\\Users\\tanbe\\AppData\\Local\\Temp\\ipykernel_24432\\3443088727.py:17: DtypeWarning: Columns (71,73,77,78,79,80,82,84,85,90,91,92,93,98,99,100,101,102,103,104,107,108,109,110,111,118,120,137,141,142,146,148,149,151,166,167,168,178,180,183,184,185,189,190,192,193,194,195,196,200,201,202,203,204,205,206,209,210,211,212,215,217,218,219,247,248,249,250) have mixed types. Specify dtype option on import or set low_memory=False.\n",
      "  df = pd.read_csv(filepath)\n"
     ]
    },
    {
     "name": "stdout",
     "output_type": "stream",
     "text": [
      "Shape: (50000, 254)\n",
      "\n",
      "=== Processing Deauth_14.csv (folder: 1.Deauth) ===\n"
     ]
    },
    {
     "name": "stderr",
     "output_type": "stream",
     "text": [
      "C:\\Users\\tanbe\\AppData\\Local\\Temp\\ipykernel_24432\\3443088727.py:17: DtypeWarning: Columns (71,73,77,78,79,80,82,84,85,90,91,92,93,98,99,100,101,102,103,104,105,107,108,109,110,111,166,167,168,178,180,183,184,185,189,190,192,193,194,195,196,200,201,202,203,204,205,206,209,210,211,212,213,215,217,247,248,250,251) have mixed types. Specify dtype option on import or set low_memory=False.\n",
      "  df = pd.read_csv(filepath)\n"
     ]
    },
    {
     "name": "stdout",
     "output_type": "stream",
     "text": [
      "Shape: (50000, 254)\n",
      "\n",
      "=== Processing Deauth_15.csv (folder: 1.Deauth) ===\n"
     ]
    },
    {
     "name": "stderr",
     "output_type": "stream",
     "text": [
      "C:\\Users\\tanbe\\AppData\\Local\\Temp\\ipykernel_24432\\3443088727.py:17: DtypeWarning: Columns (71,73,77,78,79,80,82,84,85,87,90,91,92,93,98,99,100,101,102,103,104,105,107,108,109,110,111,118,166,167,168,183,184,185,189,190,192,193,194,195,196,200,201,202,206,209,210,211,212,213,215,218,219,244,251) have mixed types. Specify dtype option on import or set low_memory=False.\n",
      "  df = pd.read_csv(filepath)\n"
     ]
    },
    {
     "name": "stdout",
     "output_type": "stream",
     "text": [
      "Shape: (50000, 254)\n",
      "\n",
      "=== Processing Deauth_16.csv (folder: 1.Deauth) ===\n"
     ]
    },
    {
     "name": "stderr",
     "output_type": "stream",
     "text": [
      "C:\\Users\\tanbe\\AppData\\Local\\Temp\\ipykernel_24432\\3443088727.py:17: DtypeWarning: Columns (71,73,77,78,79,80,82,84,85,87,90,91,92,93,98,99,100,101,102,103,104,107,108,109,110,111,112,113,114,116,117,118,166,167,168,169,170,171,172,173,175,176,177,180,181,190,192,193,194,195,200,201,202,203,204,205,206,209,210,211,212,213,215,217,218,219) have mixed types. Specify dtype option on import or set low_memory=False.\n",
      "  df = pd.read_csv(filepath)\n"
     ]
    },
    {
     "name": "stdout",
     "output_type": "stream",
     "text": [
      "Shape: (50000, 254)\n",
      "\n",
      "=== Processing Deauth_17.csv (folder: 1.Deauth) ===\n"
     ]
    },
    {
     "name": "stderr",
     "output_type": "stream",
     "text": [
      "C:\\Users\\tanbe\\AppData\\Local\\Temp\\ipykernel_24432\\3443088727.py:17: DtypeWarning: Columns (71,73,77,78,79,80,82,84,85,87,90,91,92,93,98,99,100,101,102,103,104,105,107,108,109,110,111,112,113,114,116,117,118,166,167,168,178,180,183,184,185,189,190,192,193,194,195,196,197,200,201,202,203,204,205,206,209,210,211,212,213,215,217,219,247,248,250,251) have mixed types. Specify dtype option on import or set low_memory=False.\n",
      "  df = pd.read_csv(filepath)\n"
     ]
    },
    {
     "name": "stdout",
     "output_type": "stream",
     "text": [
      "Shape: (50000, 254)\n",
      "\n",
      "=== Processing Deauth_18.csv (folder: 1.Deauth) ===\n"
     ]
    },
    {
     "name": "stderr",
     "output_type": "stream",
     "text": [
      "C:\\Users\\tanbe\\AppData\\Local\\Temp\\ipykernel_24432\\3443088727.py:17: DtypeWarning: Columns (71,73,77,78,79,80,82,84,85,87,90,91,92,93,94,96,98,99,100,101,102,103,104,107,108,109,110,111,112,113,114,116,117,118,166,167,168,169,170,171,172,173,175,176,177,178,180,181,183,184,185,189,190,191,192,193,194,195,196,197,200,201,202,203,204,205,206,209,210,211,212,213,215,217,218,219,247,248,249,250) have mixed types. Specify dtype option on import or set low_memory=False.\n",
      "  df = pd.read_csv(filepath)\n"
     ]
    },
    {
     "name": "stdout",
     "output_type": "stream",
     "text": [
      "Shape: (50000, 254)\n",
      "\n",
      "=== Processing Deauth_19.csv (folder: 1.Deauth) ===\n"
     ]
    },
    {
     "name": "stderr",
     "output_type": "stream",
     "text": [
      "C:\\Users\\tanbe\\AppData\\Local\\Temp\\ipykernel_24432\\3443088727.py:17: DtypeWarning: Columns (71,73,77,78,79,80,112,113,114,116,117,118,166,167,168,169,170,171,172,173,174,175,176,177,181,183,184,185,186,189,190,192,193,194,195,196,197,200,201,202,203,204,205,206,209,210,211,212,213,215,217,218,219,247,248,249,250) have mixed types. Specify dtype option on import or set low_memory=False.\n",
      "  df = pd.read_csv(filepath)\n"
     ]
    },
    {
     "name": "stdout",
     "output_type": "stream",
     "text": [
      "Shape: (50000, 254)\n",
      "\n",
      "=== Processing Deauth_2.csv (folder: 1.Deauth) ===\n"
     ]
    },
    {
     "name": "stderr",
     "output_type": "stream",
     "text": [
      "C:\\Users\\tanbe\\AppData\\Local\\Temp\\ipykernel_24432\\3443088727.py:17: DtypeWarning: Columns (71,73,77,78,79,80,82,84,85,87,90,91,92,93,98,99,100,101,102,103,104,107,108,109,110,111,112,113,114,116,117,118,120,137,141,146,148,149,151,166,169,170,171,172,173,175,176,177,181,189,190,192,193,194,195,196,197,200,201,202,203,204,205,206,209,210,211,212,213,215,217,218,219,249) have mixed types. Specify dtype option on import or set low_memory=False.\n",
      "  df = pd.read_csv(filepath)\n"
     ]
    },
    {
     "name": "stdout",
     "output_type": "stream",
     "text": [
      "Shape: (50000, 254)\n",
      "\n",
      "=== Processing Deauth_20.csv (folder: 1.Deauth) ===\n"
     ]
    },
    {
     "name": "stderr",
     "output_type": "stream",
     "text": [
      "C:\\Users\\tanbe\\AppData\\Local\\Temp\\ipykernel_24432\\3443088727.py:17: DtypeWarning: Columns (71,73,77,78,79,80,82,84,85,90,91,92,93,98,99,100,101,102,103,104,107,108,109,110,111,118,166,167,168,178,180,183,184,185,189,190,192,193,194,195,197,200,201,202,203,204,205,206,209,210,211,212,213,215,217,218,219,247,248,250) have mixed types. Specify dtype option on import or set low_memory=False.\n",
      "  df = pd.read_csv(filepath)\n"
     ]
    },
    {
     "name": "stdout",
     "output_type": "stream",
     "text": [
      "Shape: (50000, 254)\n",
      "\n",
      "=== Processing Deauth_21.csv (folder: 1.Deauth) ===\n"
     ]
    },
    {
     "name": "stderr",
     "output_type": "stream",
     "text": [
      "C:\\Users\\tanbe\\AppData\\Local\\Temp\\ipykernel_24432\\3443088727.py:17: DtypeWarning: Columns (20,21,43,44,45,62,65,71,73,77,78,79,80,112,113,114,116,117,118,166,167,168,169,170,171,172,173,175,176,177,178,180,181,183,184,185,189,190,192,193,194,195,197,200,201,202,203,204,205,206,209,210,211,212,213,215,217,218,219,247,248,250,251) have mixed types. Specify dtype option on import or set low_memory=False.\n",
      "  df = pd.read_csv(filepath)\n"
     ]
    },
    {
     "name": "stdout",
     "output_type": "stream",
     "text": [
      "Shape: (50000, 254)\n",
      "\n",
      "=== Processing Deauth_22.csv (folder: 1.Deauth) ===\n"
     ]
    },
    {
     "name": "stderr",
     "output_type": "stream",
     "text": [
      "C:\\Users\\tanbe\\AppData\\Local\\Temp\\ipykernel_24432\\3443088727.py:17: DtypeWarning: Columns (20,21,43,44,45,62,65,71,73,77,78,79,80,82,84,85,86,90,91,92,93,94,96,98,99,100,101,102,103,104,105,107,108,109,110,111,112,113,114,115,116,117,153,155,157,158,159,160,161,166,167,168,169,170,171,172,173,175,176,177,178,180,181,183,184,185,189,190,192,193,194,195,197,200,201,202,203,204,205,206,209,210,211,212,213,215,217,218,219,247,248,250,251) have mixed types. Specify dtype option on import or set low_memory=False.\n",
      "  df = pd.read_csv(filepath)\n"
     ]
    },
    {
     "name": "stdout",
     "output_type": "stream",
     "text": [
      "Shape: (50000, 254)\n",
      "\n",
      "=== Processing Deauth_23.csv (folder: 1.Deauth) ===\n"
     ]
    },
    {
     "name": "stderr",
     "output_type": "stream",
     "text": [
      "C:\\Users\\tanbe\\AppData\\Local\\Temp\\ipykernel_24432\\3443088727.py:17: DtypeWarning: Columns (20,21,43,44,45,62,65,71,73,77,78,79,80,82,84,85,86,87,90,91,92,93,98,99,100,101,102,103,104,105,107,108,109,110,111,112,113,114,115,116,117,153,155,157,158,159,160,161,162,163,164,166,167,168,169,170,171,172,173,175,176,177,178,180,181,183,184,185,189,190,192,193,194,195,197,200,201,202,203,204,205,206,209,210,211,212,213,217,218,219,244,247,248,249,250,251,252) have mixed types. Specify dtype option on import or set low_memory=False.\n",
      "  df = pd.read_csv(filepath)\n"
     ]
    },
    {
     "name": "stdout",
     "output_type": "stream",
     "text": [
      "Shape: (50000, 254)\n",
      "\n",
      "=== Processing Deauth_24.csv (folder: 1.Deauth) ===\n"
     ]
    },
    {
     "name": "stderr",
     "output_type": "stream",
     "text": [
      "C:\\Users\\tanbe\\AppData\\Local\\Temp\\ipykernel_24432\\3443088727.py:17: DtypeWarning: Columns (20,21,43,44,45,62,65,71,73,77,78,79,80,82,84,85,87,90,91,92,93,98,99,100,101,102,103,104,107,108,109,110,111,112,113,114,115,116,117,166,167,168,178,180,183,184,185,189,190,192,193,194,195,196,197,200,201,202,203,204,205,206,209,210,211,212,213,215,217,218,219,247,248,249,250,251) have mixed types. Specify dtype option on import or set low_memory=False.\n",
      "  df = pd.read_csv(filepath)\n"
     ]
    },
    {
     "name": "stdout",
     "output_type": "stream",
     "text": [
      "Shape: (50000, 254)\n",
      "\n",
      "=== Processing Deauth_25.csv (folder: 1.Deauth) ===\n"
     ]
    },
    {
     "name": "stderr",
     "output_type": "stream",
     "text": [
      "C:\\Users\\tanbe\\AppData\\Local\\Temp\\ipykernel_24432\\3443088727.py:17: DtypeWarning: Columns (20,21,43,44,45,62,65,71,73,77,78,79,80,82,84,85,90,91,92,93,98,99,100,101,102,103,104,107,108,109,110,111,112,113,114,116,117,118,166,168,169,170,171,172,173,175,176,177,181,183,184,185,189,190,192,193,194,195,197,200,201,202,203,204,205,206,209,210,211,212,213,215,217,218,219,247,248,249,250,251) have mixed types. Specify dtype option on import or set low_memory=False.\n",
      "  df = pd.read_csv(filepath)\n"
     ]
    },
    {
     "name": "stdout",
     "output_type": "stream",
     "text": [
      "Shape: (50000, 254)\n",
      "\n",
      "=== Processing Deauth_26.csv (folder: 1.Deauth) ===\n"
     ]
    },
    {
     "name": "stderr",
     "output_type": "stream",
     "text": [
      "C:\\Users\\tanbe\\AppData\\Local\\Temp\\ipykernel_24432\\3443088727.py:17: DtypeWarning: Columns (20,21,43,44,45,62,65,71,73,77,78,79,80,82,84,85,90,91,92,93,98,99,100,101,102,103,104,107,108,109,110,111,115,118,166,167,168,178,180,183,184,185,189,190,192,193,194,195,196,200,201,202,203,204,205,206,209,210,211,212,213,215,217,218,219,247,248,249,250) have mixed types. Specify dtype option on import or set low_memory=False.\n",
      "  df = pd.read_csv(filepath)\n"
     ]
    },
    {
     "name": "stdout",
     "output_type": "stream",
     "text": [
      "Shape: (50000, 254)\n",
      "\n",
      "=== Processing Deauth_27.csv (folder: 1.Deauth) ===\n"
     ]
    },
    {
     "name": "stderr",
     "output_type": "stream",
     "text": [
      "C:\\Users\\tanbe\\AppData\\Local\\Temp\\ipykernel_24432\\3443088727.py:17: DtypeWarning: Columns (20,21,43,44,45,62,65,71,73,77,78,79,80,82,84,85,87,90,91,92,93,98,99,100,101,102,103,104,107,108,109,110,111,115,167,168,178,180,183,184,185,189,190,192,193,194,195,196,197,200,201,202,203,204,205,206,209,210,211,212,213,215,217,218,219,247,248,249,250,251) have mixed types. Specify dtype option on import or set low_memory=False.\n",
      "  df = pd.read_csv(filepath)\n"
     ]
    },
    {
     "name": "stdout",
     "output_type": "stream",
     "text": [
      "Shape: (50000, 254)\n",
      "\n",
      "=== Processing Deauth_28.csv (folder: 1.Deauth) ===\n"
     ]
    },
    {
     "name": "stderr",
     "output_type": "stream",
     "text": [
      "C:\\Users\\tanbe\\AppData\\Local\\Temp\\ipykernel_24432\\3443088727.py:17: DtypeWarning: Columns (20,21,43,44,45,62,65,71,73,77,78,79,80,87,93,112,113,114,115,116,117,118,166,167,168,169,170,171,172,173,175,176,177,178,180,181,183,184,185,186,189,190,192,193,194,195,196,197,200,201,202,203,204,205,206,209,210,211,212,213,215,217,218,219,248,249,251) have mixed types. Specify dtype option on import or set low_memory=False.\n",
      "  df = pd.read_csv(filepath)\n"
     ]
    },
    {
     "name": "stdout",
     "output_type": "stream",
     "text": [
      "Shape: (50000, 254)\n",
      "\n",
      "=== Processing Deauth_29.csv (folder: 1.Deauth) ===\n"
     ]
    },
    {
     "name": "stderr",
     "output_type": "stream",
     "text": [
      "C:\\Users\\tanbe\\AppData\\Local\\Temp\\ipykernel_24432\\3443088727.py:17: DtypeWarning: Columns (45,62,65,71,73,77,78,79,80,112,113,114,116,117,118,166,167,168,169,170,171,172,173,175,176,177,178,180,181,183,184,185,189,190,192,193,194,195,197,200,201,202,203,204,205,206,209,210,211,212,213,215,217,247,248,249,250) have mixed types. Specify dtype option on import or set low_memory=False.\n",
      "  df = pd.read_csv(filepath)\n"
     ]
    },
    {
     "name": "stdout",
     "output_type": "stream",
     "text": [
      "Shape: (50000, 254)\n",
      "\n",
      "=== Processing Deauth_3.csv (folder: 1.Deauth) ===\n"
     ]
    },
    {
     "name": "stderr",
     "output_type": "stream",
     "text": [
      "C:\\Users\\tanbe\\AppData\\Local\\Temp\\ipykernel_24432\\3443088727.py:17: DtypeWarning: Columns (71,73,77,78,79,80,82,84,85,90,91,92,93,98,99,100,101,102,103,104,107,108,109,110,111,118,166,167,168,178,180,183,184,185,190,192,193,194,195,196,200,201,202,206,209,210,211,212,213,215,218,219,247,248,249,250) have mixed types. Specify dtype option on import or set low_memory=False.\n",
      "  df = pd.read_csv(filepath)\n"
     ]
    },
    {
     "name": "stdout",
     "output_type": "stream",
     "text": [
      "Shape: (50000, 254)\n"
     ]
    }
   ],
   "source": [
    "folder = \"Awid_CSV\" \n",
    "results = []\n",
    "\n",
    "for subfolder in os.listdir(folder):\n",
    "    subpath = os.path.join(folder, subfolder)\n",
    "    if not os.path.isdir(subpath):\n",
    "        continue\n",
    "\n",
    "    for file in os.listdir(subpath):\n",
    "        if not file.lower().endswith(\".csv\"):\n",
    "            continue\n",
    "\n",
    "        filepath = os.path.join(subpath, file)\n",
    "        print(f\"\\n=== Processing {file} (folder: {subfolder}) ===\")\n",
    "\n",
    "        try:\n",
    "            df = pd.read_csv(filepath)\n",
    "            print(\"Shape:\", df.shape)\n",
    "\n",
    "            # Preprocess\n",
    "            X_scaled, y = preprocess_data(df, label_col=\"Label\")  # adjust if AWID uses \"class\"\n",
    "\n",
    "            # ENN\n",
    "            _, per_class = enn_test(X_scaled, y, k=5)\n",
    "\n",
    "            # Port Test\n",
    "            port_results = port_test(df, label_col=\"Label\")\n",
    "\n",
    "            # Store results\n",
    "            for cls in np.unique(y):\n",
    "                results.append({\n",
    "                    \"Folder\": subfolder,\n",
    "                    \"File\": file,\n",
    "                    \"Class\": cls,\n",
    "                    \"ENN_misrate\": per_class.get(cls, np.nan),\n",
    "                    \"PortTest_UGT_C\": port_results.get(cls, np.nan),\n",
    "                })\n",
    "\n",
    "        except Exception as e:\n",
    "            print(f\" Error with {file}: {e}\")"
   ]
  },
  {
   "cell_type": "code",
   "execution_count": null,
   "id": "f9667fde",
   "metadata": {},
   "outputs": [],
   "source": [
    "summary_df = pd.DataFrame(results)\n",
    "print(\"\\n=== Summary Results ===\")\n",
    "print(summary_df.head(20))\n",
    "\n",
    "summary_df.to_csv(\"AWID_ENN_PortTest_Summary.csv\", index=False, encoding=\"utf-8\")\n",
    "print(\"Saved AWID_ENN_PortTest_Summary.csv\")\n"
   ]
  },
  {
   "cell_type": "code",
   "execution_count": null,
   "id": "e4ad34be",
   "metadata": {},
   "outputs": [],
   "source": [
    "# 1. ENN misclassification\n",
    "plt.figure(figsize=(12,6))\n",
    "sns.barplot(data=summary_df, x=\"Class\", y=\"ENN_misrate\")\n",
    "plt.title(\"AWID - ENN Misclassification Rate per Class\")\n",
    "plt.xticks(rotation=45)\n",
    "plt.tight_layout()\n",
    "plt.show()\n",
    "\n",
    "# 2. Port Test\n",
    "plt.figure(figsize=(12,6))\n",
    "sns.barplot(data=summary_df, x=\"Class\", y=\"PortTest_UGT_C\")\n",
    "plt.title(\"AWID - PortTest UGT_C per Class\")\n",
    "plt.xticks(rotation=45)\n",
    "plt.tight_layout()\n",
    "plt.show()\n",
    "\n",
    "# 3. Heatmap\n",
    "pivot = summary_df.pivot_table(index=\"Class\", columns=\"File\", values=\"ENN_misrate\")\n",
    "plt.figure(figsize=(12,8))\n",
    "sns.heatmap(pivot, annot=True, fmt=\".3f\", cmap=\"viridis\")\n",
    "plt.title(\"AWID - ENN Misclassification Heatmap\")\n",
    "plt.tight_layout()\n",
    "plt.show()"
   ]
  }
 ],
 "metadata": {
  "kernelspec": {
   "display_name": "Python 3",
   "language": "python",
   "name": "python3"
  },
  "language_info": {
   "codemirror_mode": {
    "name": "ipython",
    "version": 3
   },
   "file_extension": ".py",
   "mimetype": "text/x-python",
   "name": "python",
   "nbconvert_exporter": "python",
   "pygments_lexer": "ipython3",
   "version": "3.11.0"
  }
 },
 "nbformat": 4,
 "nbformat_minor": 5
}
